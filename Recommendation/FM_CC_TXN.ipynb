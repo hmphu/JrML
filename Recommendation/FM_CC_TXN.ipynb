{
 "cells": [
  {
   "cell_type": "code",
   "execution_count": 74,
   "metadata": {},
   "outputs": [],
   "source": [
    "# load package# load p \n",
    "import pandas as pd\n",
    "import numpy as np\n",
    "import seaborn as sns\n",
    "from sklearn.model_selection import GridSearchCV\n",
    "from sklearn.cross_validation  import train_test_split\n",
    "from sklearn import metrics\n",
    "from sklearn import preprocessing\n",
    "import matplotlib.pyplot as plt\n",
    "from sklearn import cross_validation\n",
    "\n",
    "import ffm\n",
    "import _pickle as pickle\n",
    "\n",
    "from fastFM.mcmc import FMClassification, FMRegression\n",
    "from sklearn.preprocessing import OneHotEncoder\n",
    "from sklearn.linear_model import LogisticRegression, Ridge\n",
    "from sklearn.datasets import dump_svmlight_file\n",
    "# set path\n",
    "import os\n",
    "default_path = \"/Users/francislin/jrml/Recommendation/\"\n",
    "os.chdir(default_path)\n",
    "\n",
    "# skip interaction warning\n",
    "import warnings; \n",
    "warnings.filterwarnings('ignore')"
   ]
  },
  {
   "cell_type": "code",
   "execution_count": 26,
   "metadata": {},
   "outputs": [],
   "source": [
    "# Data Prepararion\n",
    "# read data\n",
    "#train=pd.read_csv('train.csv',encoding='big5')\n",
    "class0=pd.read_csv('WORK_MAX_ROUND_CLASS0_ALL.csv',encoding='big5')\n",
    "class1=pd.read_csv('ROUND_CLASS1_ALL.csv',encoding='big5')\n",
    "train= class0.append([class1,class1,class1,class1], ignore_index=True)#放大4倍Y=1\n",
    "test=pd.read_csv('test_public.csv',encoding='big5')\n",
    "submit=pd.read_csv('sampleSubmission.csv',encoding='big5')\n",
    "data=train.append(test, ignore_index=True)"
   ]
  },
  {
   "cell_type": "code",
   "execution_count": 27,
   "metadata": {},
   "outputs": [
    {
     "data": {
      "text/plain": [
       "Index(['Amount', 'Class', 'TXKEY', 'Time', 'V1', 'V10', 'V11', 'V12', 'V13',\n",
       "       'V14', 'V15', 'V16', 'V17', 'V18', 'V19', 'V2', 'V20', 'V21', 'V22',\n",
       "       'V23', 'V24', 'V25', 'V26', 'V27', 'V28', 'V3', 'V4', 'V5', 'V6', 'V7',\n",
       "       'V8', 'V9'],\n",
       "      dtype='object')"
      ]
     },
     "execution_count": 27,
     "metadata": {},
     "output_type": "execute_result"
    }
   ],
   "source": [
    "# 運用'Class'欄位來判斷訓練集還是測試集\n",
    "dataTrain = data[pd.notnull(data['Class'])].sort_values(by=[\"Time\"])\n",
    "dataTest = data[~pd.notnull(data['Class'])].sort_values(by=[\"Time\"])\n",
    "dataTrain.columns"
   ]
  },
  {
   "cell_type": "code",
   "execution_count": 63,
   "metadata": {},
   "outputs": [],
   "source": [
    "from sklearn.model_selection import train_test_split\n",
    "train, test= train_test_split(dataTrain, test_size=0.3, random_state=7)"
   ]
  },
  {
   "cell_type": "code",
   "execution_count": 56,
   "metadata": {},
   "outputs": [],
   "source": [
    "# Based on Kaggle kernel by Scirpus\n",
    "def convert_to_ffm(df,type,numerics,categories,features):\n",
    "    currentcode = len(numerics)\n",
    "    catdict = {}\n",
    "    catcodes = {}\n",
    "    # Flagging categorical and numerical fields\n",
    "    for x in numerics:\n",
    "         catdict[x] = 0\n",
    "    for x in categories:\n",
    "         catdict[x] = 1\n",
    "    \n",
    "    nrows = df.shape[0]\n",
    "    ncolumns = len(features)\n",
    "    with open(str(type) + \"_ffm.txt\", \"w\") as text_file:\n",
    "# Looping over rows to convert each row to libffm format\n",
    "        for n,r in enumerate(range(nrows)):\n",
    "            datastring = \"\"\n",
    "            datarow = df.iloc[r].to_dict()\n",
    "            #datastring += str(int(datarow['Class']))\n",
    "            datastring += str(int(datarow['Class']))\n",
    "             # For numerical fields, we are creating a dummy field here\n",
    "            for i, x in enumerate(catdict.keys()):\n",
    "                if(catdict[x]==0):\n",
    "                    datastring = datastring + \" \"+str(i)+\":\"+ str(i)+\":\"+ str(datarow[x])\n",
    "                else:\n",
    "            # For a new field appearing in a training example\n",
    "                    if(x not in catcodes):\n",
    "                        catcodes[x] = {}\n",
    "                        currentcode +=1\n",
    "                        catcodes[x][datarow[x]] = currentcode #encoding the feature\n",
    "            # For already encoded fields\n",
    "                    elif(datarow[x] not in catcodes[x]):\n",
    "                        currentcode +=1\n",
    "                        catcodes[x][datarow[x]] = currentcode #encoding the feature\n",
    "                    code = catcodes[x][datarow[x]]\n",
    "                    datastring = datastring + \" \"+str(i)+\":\"+ str(int(code))+\":1\"\n",
    "\n",
    "            datastring += '\\n'\n",
    "            text_file.write(datastring)"
   ]
  },
  {
   "cell_type": "code",
   "execution_count": 67,
   "metadata": {},
   "outputs": [
    {
     "name": "stdout",
     "output_type": "stream",
     "text": [
      "         V1  V10  V11  V12  V13  V14  V15  V16  V17  V18 ...   V26  V27  V28  \\\n",
      "156699  1.9  1.3 -0.3  0.2  1.6 -1.0  0.8 -1.1  1.1 -1.3 ...  -0.2  0.1  0.0   \n",
      "44105  -1.0  0.0 -1.3 -1.0 -1.5 -1.4 -1.5  0.4  1.0 -1.6 ...  -0.1  0.5  0.2   \n",
      "71662  -0.5 -0.5  0.0 -0.4 -1.8 -0.6 -1.3  0.0  0.6  1.1 ...   0.4  0.3  0.4   \n",
      "60097  -0.7  0.7  0.0 -0.2  1.4 -0.1 -0.8  0.3 -0.2  0.7 ...  -0.4  0.0  0.0   \n",
      "125873  1.1 -0.5  2.0  0.0 -1.6 -0.8  0.8  0.5  1.1  0.7 ...  -0.3  0.0  0.0   \n",
      "\n",
      "         V3   V4   V5   V6   V7   V8   V9  \n",
      "156699  0.0 -1.5 -1.5  1.1 -1.9  0.4 -0.7  \n",
      "44105   2.9 -1.5 -1.4  0.6 -0.9  0.6  0.5  \n",
      "71662  -1.2  0.1  2.4 -1.1 -0.3  0.2  0.4  \n",
      "60097   0.8 -2.7 -0.5 -0.1 -0.4  0.4 -3.0  \n",
      "125873 -0.3  1.2  0.1 -0.6  0.0  0.1 -0.2  \n",
      "\n",
      "[5 rows x 28 columns]\n",
      "\n",
      "\n",
      "         V1  V10  V11  V12  V13  V14  V15  V16  V17  V18 ...   V26  V27  V28  \\\n",
      "156699  1.9  1.3 -0.3  0.2  1.6 -1.0  0.8 -1.1  1.1 -1.3 ...  -0.2  0.1  0.0   \n",
      "44105  -1.0  0.0 -1.3 -1.0 -1.5 -1.4 -1.5  0.4  1.0 -1.6 ...  -0.1  0.5  0.2   \n",
      "71662  -0.5 -0.5  0.0 -0.4 -1.8 -0.6 -1.3  0.0  0.6  1.1 ...   0.4  0.3  0.4   \n",
      "60097  -0.7  0.7  0.0 -0.2  1.4 -0.1 -0.8  0.3 -0.2  0.7 ...  -0.4  0.0  0.0   \n",
      "125873  1.1 -0.5  2.0  0.0 -1.6 -0.8  0.8  0.5  1.1  0.7 ...  -0.3  0.0  0.0   \n",
      "\n",
      "         V3   V4   V5   V6   V7   V8   V9  \n",
      "156699  0.0 -1.5 -1.5  1.1 -1.9  0.4 -0.7  \n",
      "44105   2.9 -1.5 -1.4  0.6 -0.9  0.6  0.5  \n",
      "71662  -1.2  0.1  2.4 -1.1 -0.3  0.2  0.4  \n",
      "60097   0.8 -2.7 -0.5 -0.1 -0.4  0.4 -3.0  \n",
      "125873 -0.3  1.2  0.1 -0.6  0.0  0.1 -0.2  \n",
      "\n",
      "[5 rows x 28 columns]\n",
      "\n",
      "\n"
     ]
    }
   ],
   "source": [
    "num_col_tr = train.iloc[:,4:32]\n",
    "print (num_col_tr.head())\n",
    "print ('\\n')\n",
    "\n",
    "num_col_te = test.iloc[:,4:32]\n",
    "print (num_col_tr.head())\n",
    "print ('\\n')"
   ]
  },
  {
   "cell_type": "code",
   "execution_count": 75,
   "metadata": {},
   "outputs": [],
   "source": [
    "num_col_tr = pd.DataFrame(num_col_tr.fillna(num_col_tr.mean()))\n",
    "cat_col_tr = pd.DataFrame()\n",
    "all_col_tr = pd.concat([num_col_tr,cat_col_tr],axis=1)"
   ]
  },
  {
   "cell_type": "code",
   "execution_count": 76,
   "metadata": {},
   "outputs": [],
   "source": [
    "train_data_Label = pd.concat([train.Class, all_col_tr],axis=1)\n",
    "convert_to_ffm(train_data_Label,'CC_Train',list(num_col_tr),list(cat_col_tr),list(all_col_tr))"
   ]
  },
  {
   "cell_type": "code",
   "execution_count": 77,
   "metadata": {},
   "outputs": [
    {
     "data": {
      "text/plain": [
       "'/Users/francislin/JrML/Recommendation'"
      ]
     },
     "execution_count": 77,
     "metadata": {},
     "output_type": "execute_result"
    }
   ],
   "source": [
    "%pwd"
   ]
  },
  {
   "cell_type": "code",
   "execution_count": 78,
   "metadata": {},
   "outputs": [],
   "source": [
    "num_col_te = pd.DataFrame(num_col_te.fillna(num_col_tr.mean()))\n",
    "cat_col_te = pd.DataFrame()\n",
    "all_col_te = pd.concat([num_col_te,cat_col_te],axis=1)"
   ]
  },
  {
   "cell_type": "code",
   "execution_count": 79,
   "metadata": {},
   "outputs": [],
   "source": [
    "test_data_Label = pd.concat([test.Class, all_col_te],axis=1)\n",
    "convert_to_ffm(test_data_Label,'CC_Test',list(num_col_te),list(cat_col_te),list(all_col_te))"
   ]
  },
  {
   "cell_type": "code",
   "execution_count": 80,
   "metadata": {},
   "outputs": [],
   "source": [
    "import xlearn as xl"
   ]
  },
  {
   "cell_type": "code",
   "execution_count": 81,
   "metadata": {},
   "outputs": [],
   "source": [
    "# Training task\n",
    "ffm_model = xl.create_ffm() # Use field-aware factorization machine\n",
    "ffm_model.setTrain(\"CC_Train_ffm.txt\")  # Training data\n",
    "ffm_model.setValidate(\"CC_Test_ffm.txt\")  # Validation data\n",
    "\n",
    "# param:\n",
    "#  0. binary classification\n",
    "#  1. learning rate: 0.2\n",
    "#  2. regular lambda: 0.002\n",
    "#  3. evaluation metric: accuracy\n",
    "param = {'task':'binary', 'lr':0.2, \n",
    "         'lambda':0.002, 'metric':'acc'}\n",
    "\n",
    "# Start to train\n",
    "# The trained model will be stored in model.out\n",
    "ffm_model.fit(param, './model.out')\n",
    "\n",
    "# Prediction task\n",
    "ffm_model.setTest(\"CC_Test_ffm.txt\")  # Test data\n",
    "ffm_model.setSigmoid()  # Convert output to 0-1\n",
    "\n",
    "# Start to predict\n",
    "# The output result will be stored in output.txt\n",
    "ffm_model.predict(\"./model.out\", \"./output_ffm.txt\")"
   ]
  },
  {
   "cell_type": "code",
   "execution_count": null,
   "metadata": {},
   "outputs": [],
   "source": []
  }
 ],
 "metadata": {
  "kernelspec": {
   "display_name": "Python 3",
   "language": "python",
   "name": "python3"
  },
  "language_info": {
   "codemirror_mode": {
    "name": "ipython",
    "version": 3
   },
   "file_extension": ".py",
   "mimetype": "text/x-python",
   "name": "python",
   "nbconvert_exporter": "python",
   "pygments_lexer": "ipython3",
   "version": "3.6.5"
  }
 },
 "nbformat": 4,
 "nbformat_minor": 2
}
