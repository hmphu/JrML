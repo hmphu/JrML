{
 "cells": [
  {
   "cell_type": "code",
   "execution_count": null,
   "metadata": {},
   "outputs": [],
   "source": [
    "import pandas as pd\n",
    "import warnings\n",
    "warnings.filterwarnings(\"ignore\")\n",
    "import lightgbm as lgb\n",
    "from lightgbm import LGBMClassifier\n",
    "#from bayes_opt import BayesianOptimization\n",
    "from sklearn.model_selection import GridSearchCV\n",
    "import matplotlib.pyplot as plt\n",
    "from sklearn import cross_validation"
   ]
  },
  {
   "cell_type": "code",
   "execution_count": null,
   "metadata": {},
   "outputs": [],
   "source": [
    "# Function for Measure Performance# \n",
    "from  sklearn  import  metrics\n",
    "def measure_performance(X,y,clf, show_accuracy=True, show_classification_report=True, show_confusion_matrix=True, show_roc_auc = True):\n",
    "    y_pred = clf.predict(X)\n",
    "    y_predprob = clf.predict_proba(X)[:,1]\n",
    "    if show_accuracy:\n",
    "        print (\"Accuracy:{0:.3f}\".format(metrics.accuracy_score(y,y_pred))),\"\\n\"\n",
    "\n",
    "    if show_classification_report:\n",
    "        print(\"Classification report\")\n",
    "        print(metrics.classification_report(y,y_pred)),\"\\n\"\n",
    "        \n",
    "    if show_confusion_matrix:\n",
    "        print(\"Confusion matrix\")\n",
    "        print(metrics.confusion_matrix(y,y_pred)),\"\\n\"  \n",
    "        \n",
    "    if show_roc_auc:\n",
    "        print(\"ROC AUC Score\")\n",
    "        print(metrics.roc_auc_score(y,y_predprob)),\"\\n\""
   ]
  },
  {
   "cell_type": "code",
   "execution_count": 29,
   "metadata": {},
   "outputs": [],
   "source": [
    "#Data Preparation for LightGBM\n",
    "import os\n",
    "os.chdir(default_path)\n",
    "application_train = pd.read_csv('/Users/francislin/Desktop/Machine_Learning_Workshop/Home Credit Default Risk/application_train.csv')\n",
    "\n",
    "# use LabelEncoder to convert categorical features to int type before construct Dataset\n",
    "from sklearn.preprocessing import LabelEncoder\n",
    "def label_encoder(input_df, encoder_dict=None):\n",
    "    \"\"\" Process a dataframe into a form useable by LightGBM \"\"\"\n",
    "    # Label encode categoricals\n",
    "    categorical_feats = input_df.columns[input_df.dtypes == 'object']\n",
    "    for feat in categorical_feats:\n",
    "        encoder = LabelEncoder()\n",
    "        input_df[feat] = encoder.fit_transform(input_df[feat].fillna('NULL'))\n",
    "    return input_df, categorical_feats.tolist(), encoder_dict\n",
    "application_train, categorical_feats, encoder_dict = label_encoder(application_train)\n",
    "X = application_train.drop('TARGET', axis=1)\n",
    "y = application_train.TARGET\n",
    "\n",
    "# Prepare dataset \n",
    "seed = 7\n",
    "test_size = 0.3\n",
    "X_train, X_test, y_train, y_test = cross_validation.train_test_split(X, y, test_size=test_size, random_state=seed)"
   ]
  },
  {
   "cell_type": "code",
   "execution_count": null,
   "metadata": {},
   "outputs": [
    {
     "name": "stdout",
     "output_type": "stream",
     "text": [
      "Start training...\n"
     ]
    }
   ],
   "source": [
    "# Grid Search\n",
    "print('Start training...')\n",
    "estimator = lgb.LGBMClassifier(objective = 'binary', learning_rate = 0.05, n_estimators = 100, random_state=0)\n",
    "\n",
    "param_grid = {\n",
    "    'num_leaves': [38,40,42], #[35,40,45]做完是40\n",
    "    'feature_fraction': [0.4],#做過[0.2,0.3,0.4,0.5]出來是0.4\n",
    "    #'bagging_fraction': [0.6,0.7,0.8],\n",
    "    'max_depth':[4,6,8],\n",
    "    'max_bin':[10,15,20],\n",
    "    'lambda_l1':[0.1,0.2,0.3],#V4開始做lambda_l1\n",
    "    #'lambda_l2':[0.08,0.09,0.1],\n",
    "    'min_split_gain':[0.05,0.06,0.07],#做過[0.04,0.05,0.06]出來0.06\n",
    "    'min_child_weight':[7]\n",
    "}\n",
    "\n",
    "LGBM_grid = GridSearchCV(estimator, param_grid)\n",
    "LGBM_grid.fit(X_train, y_train)\n",
    "print('Best parameters found by grid search are:', LGBM_grid.best_params_)\n",
    "\n",
    "# Final Model\n",
    "evals_result = {} \n",
    "print('Start predicting...')\n",
    "LGBM_grid_final = lgb.LGBMClassifier(objective = 'binary',\n",
    "                                      learning_rate = 0.05, \n",
    "                                     n_estimators = 100, \n",
    "                                     random_state=0,\n",
    "                              num_leaves = LGBM_grid.best_params_['num_leaves'],\n",
    "                                feature_fraction = LGBM_grid.best_params_['feature_fraction'], \n",
    "                              #bagging_fraction = LGBM_grid.best_params_['bagging_fraction'],\n",
    "                             max_depth = LGBM_grid.best_params_['max_depth'],\n",
    "                              max_bin = LGBM_grid.best_params_['max_bin'],\n",
    "                              lambda_l1 = LGBM_grid.best_params_['lambda_l1'],\n",
    "                              #lambda_l2 = LGBM_grid.best_params_['lambda_l2'],\n",
    "                            min_split_gain = LGBM_grid.best_params_['min_split_gain'],\n",
    "                            min_child_weight = LGBM_grid.best_params_['min_child_weight'])\n",
    "LGBM_grid_final_fit = LGBM_grid_final.fit(X_train, y_train)\n",
    "print('Predicting is over')"
   ]
  },
  {
   "cell_type": "code",
   "execution_count": 25,
   "metadata": {},
   "outputs": [
    {
     "name": "stdout",
     "output_type": "stream",
     "text": [
      "Accuracy:0.919\n",
      "Classification report\n",
      "             precision    recall  f1-score   support\n",
      "\n",
      "          0       0.92      1.00      0.96     84807\n",
      "          1       0.58      0.01      0.01      7447\n",
      "\n",
      "avg / total       0.89      0.92      0.88     92254\n",
      "\n",
      "Confusion matrix\n",
      "[[84771    36]\n",
      " [ 7397    50]]\n",
      "ROC AUC Score\n",
      "0.7529005428417455\n",
      "Feature importances: [36, 51, 82, 28, 10, 9, 26, 193, 139, 197, 6, 42, 88, 48, 12, 57, 187, 148, 62, 115, 109, 0, 10, 24, 0, 5, 2, 94, 15, 31, 52, 18, 39, 3, 3, 2, 38, 3, 4, 46, 254, 201, 179, 23, 24, 21, 18, 21, 12, 16, 12, 10, 9, 20, 19, 10, 14, 29, 18, 33, 28, 15, 3, 19, 17, 11, 28, 7, 20, 4, 22, 22, 19, 27, 16, 22, 9, 23, 16, 11, 23, 13, 18, 3, 13, 2, 4, 20, 7, 2, 27, 57, 30, 60, 75, 0, 57, 0, 2, 3, 0, 1, 0, 0, 2, 0, 5, 1, 0, 6, 0, 6, 0, 0, 0, 0, 8, 7, 13, 39, 69]\n",
      "Plot feature importances...\n"
     ]
    },
    {
     "data": {
      "image/png": "[encoded data removed]",
      "text/plain": [
       "<Figure size 432x288 with 1 Axes>"
      ]
     },
     "metadata": {},
     "output_type": "display_data"
    }
   ],
   "source": [
    "LGBM_grid_measure = measure_performance(X = X_test, y = y_test, clf = LGBM_grid_final, show_classification_report=True, show_confusion_matrix=True)\n",
    "\n",
    "# feature importances\n",
    "print('Feature importances:', list(LGBM_grid_final.feature_importances_))\n",
    "\n",
    "# visualization\n",
    "print('Plot feature importances...')\n",
    "ax = lgb.plot_importance(LGBM_grid_final_fit, max_num_features=10)\n",
    "plt.show()"
   ]
  },
  {
   "cell_type": "code",
   "execution_count": 26,
   "metadata": {},
   "outputs": [],
   "source": [
    "# Submission file\n",
    "application_test = pd.read_csv('/Users/francislin/Desktop/Machine_Learning_Workshop/Home Credit Default Risk/application_test.csv')\n",
    "test_df = label_encoder(application_test)[0]\n",
    "\n",
    "#Bayes Optimization\n",
    "'''\n",
    "out_bayes = pd.DataFrame({\"SK_ID_CURR\":test_df[\"SK_ID_CURR\"], \"TARGET\":LGBM_bayes.predict_proba(test_df)[:,1]})\n",
    "out_bayes.to_csv(\"submissions_toy_bayes.csv\", index=False)\n",
    "'''\n",
    "#Grid Search\n",
    "out_grid = pd.DataFrame({\"SK_ID_CURR\":test_df[\"SK_ID_CURR\"], \"TARGET\":LGBM_grid.predict_proba(test_df)[:,1]})\n",
    "out_grid.to_csv(\"submissions_HomeCredit_grid_V4.csv\", index=False)"
   ]
  },
  {
   "cell_type": "code",
   "execution_count": 23,
   "metadata": {},
   "outputs": [
    {
     "name": "stdout",
     "output_type": "stream",
     "text": [
      "lightGBM_v2:'feature_fraction': 0.4, 'max_bin': 20, 'max_depth': 6, 'min_child_weight': 7, 'min_split_gain': 0.05, 'num_leaves': 40Your submission scored 0.737\n"
     ]
    }
   ],
   "source": [
    "print(\"lightGBM_v2:\"+\"'feature_fraction': 0.4, 'max_bin': 20, 'max_depth': 6, 'min_child_weight': 7, 'min_split_gain': \\\n",
    "0.05, 'num_leaves': 40\"+\"Your submission scored 0.737\")\n"
   ]
  },
  {
   "cell_type": "code",
   "execution_count": null,
   "metadata": {},
   "outputs": [],
   "source": []
  }
 ],
 "metadata": {
  "kernelspec": {
   "display_name": "Python 3",
   "language": "python",
   "name": "python3"
  },
  "language_info": {
   "codemirror_mode": {
    "name": "ipython",
    "version": 3
   },
   "file_extension": ".py",
   "mimetype": "text/x-python",
   "name": "python",
   "nbconvert_exporter": "python",
   "pygments_lexer": "ipython3",
   "version": "3.6.5"
  }
 },
 "nbformat": 4,
 "nbformat_minor": 2
}
